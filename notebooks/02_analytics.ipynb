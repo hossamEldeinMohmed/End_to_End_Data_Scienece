{
 "cells": [
  {
   "cell_type": "code",
   "execution_count": null,
   "id": "26b245d9-5a7d-404d-bb97-7e8379f4b88b",
   "metadata": {},
   "outputs": [],
   "source": [
    "DF_PATH = \"../data/processed/1_preprocessed_df.pkl\"\n",
    "ROLES_PATH = \"../data/raw/roles_short_names.csv\" \n",
    "FIG_DIR = \"../reports/figures\"\n",
    "\n",
    "NA_STRING = 'Not Specified'\n",
    "TRANSPARENT_STRING = 'rgba(0, 0, 0, 0)'\n",
    "\n",
    "ROLE_COLS      = ['DevType']\n",
    "TECH_COLS      = ['LanguageHaveWorkedWith',\n",
    "                  'DatabaseHaveWorkedWith',\n",
    "                  'PlatformHaveWorkedWith',\n",
    "                  'WebframeHaveWorkedWith',\n",
    "                  'MiscTechHaveWorkedWith',\n",
    "                  'ToolsTechHaveWorkedWith',\n",
    "                  'NEWCollabToolsHaveWorkedWith']"
   ]
  },
  {
   "cell_type": "code",
   "execution_count": null,
   "id": "c55f2ea6-1abe-4451-b5b3-6bfdd1335a03",
   "metadata": {},
   "outputs": [],
   "source": [
    "# Load packages\n",
    "import pandas as pd \n",
    "import numpy as np\n",
    "import logging\n",
    "import pickle\n",
    "import os\n",
    "\n",
    "import plotly \n",
    "import plotly.graph_objects as go\n",
    "from plotly.subplots import make_subplots\n",
    "import plotly.express as px\n",
    "import plotly.figure_factory as ff\n",
    "\n",
    "from sklearn.manifold import TSNE\n",
    "from sklearn.preprocessing import MultiLabelBinarizer\n",
    "from sklearn.preprocessing import StandardScaler\n",
    "from sklearn.preprocessing import RobustScaler\n",
    "from sklearn.preprocessing import MinMaxScaler\n",
    "from sklearn.pipeline import make_pipeline\n",
    "from sklearn.cluster import AgglomerativeClustering\n",
    "\n",
    "from matplotlib import pyplot as plt\n",
    "from scipy.cluster.hierarchy import dendrogram"
   ]
  },
  {
   "cell_type": "markdown",
   "id": "bb4c520d-7e43-4d3e-a0d3-5c3b621bf394",
   "metadata": {},
   "source": [
    "_________"
   ]
  },
  {
   "cell_type": "markdown",
   "id": "78f0cae1-bd59-4946-9dc9-09cc9e42b7fa",
   "metadata": {},
   "source": [
    "## Read data and preprocess"
   ]
  },
  {
   "cell_type": "code",
   "execution_count": null,
   "id": "55d4f27d-d61f-4a44-a56c-0ef612d12b49",
   "metadata": {},
   "outputs": [],
   "source": [
    "# Read Data \n",
    "raw_df = pd.read_pickle(DF_PATH)\n",
    "roles_names = pd.read_csv(ROLES_PATH, sep=';')"
   ]
  },
  {
   "cell_type": "markdown",
   "id": "1bcf0318-433c-494f-9a0d-fd7755c59f5d",
   "metadata": {},
   "source": [
    "### Onehot enconde"
   ]
  },
  {
   "cell_type": "code",
   "execution_count": null,
   "id": "a7473a8a-2ebf-447b-9da7-8c29842302d2",
   "metadata": {},
   "outputs": [],
   "source": [
    "df = raw_df.copy()\n",
    "encoded_dfs = {}\n",
    "for col in ROLE_COLS + TECH_COLS:\n",
    "    binarizer = MultiLabelBinarizer()\n",
    "    encoded_df = pd.DataFrame(binarizer.fit_transform(df[col]),\n",
    "                               columns=binarizer.classes_,\n",
    "                               index=df[col].index)\n",
    "    encoded_dfs[col] = encoded_df"
   ]
  },
  {
   "cell_type": "code",
   "execution_count": null,
   "id": "9081a050-a977-43b3-9fc3-1833c473ec04",
   "metadata": {},
   "outputs": [],
   "source": [
    "# Merge 1-hot encoded \n",
    "df = pd.concat(encoded_dfs, axis=1)\n",
    "df"
   ]
  },
  {
   "cell_type": "markdown",
   "id": "abf8c53a-a096-4216-a4f4-922ea7cfc2b6",
   "metadata": {},
   "source": [
    "_________"
   ]
  },
  {
   "cell_type": "markdown",
   "source": [
    "## Display jobs frequency"
   ],
   "metadata": {
    "collapsed": false
   }
  },
  {
   "cell_type": "code",
   "execution_count": null,
   "outputs": [],
   "source": [
    "jobs_freq = df['DevType'].copy().sum().sort_values().reset_index()"
   ],
   "metadata": {
    "collapsed": false,
    "pycharm": {
     "name": "#%%\n"
    }
   }
  },
  {
   "cell_type": "code",
   "execution_count": null,
   "outputs": [],
   "source": [
    "jobs_freq"
   ],
   "metadata": {
    "collapsed": false,
    "pycharm": {
     "name": "#%%\n"
    }
   }
  },
  {
   "cell_type": "markdown",
   "id": "9e2f0691-c1fd-4c88-8f84-498db29c3f16",
   "metadata": {},
   "source": [
    "## Display skills frequency "
   ]
  },
  {
   "cell_type": "code",
   "execution_count": null,
   "id": "93b96ef7-f9e1-4b14-9f43-cb105430e5a8",
   "metadata": {},
   "outputs": [],
   "source": [
    "# Calculate the sum for all cols except Devtypes\n",
    "skills_freq = df.copy().drop('DevType', axis=1).sum().reset_index()\n",
    "skills_freq.columns = ['group', 'skill', 'freq']"
   ]
  },
  {
   "cell_type": "code",
   "execution_count": null,
   "id": "59f9411d-fe3b-41f3-bb56-478bbcea53dc",
   "metadata": {},
   "outputs": [],
   "source": [
    "skills_freq.sort_values('freq', ascending=False)"
   ]
  },
  {
   "cell_type": "code",
   "execution_count": null,
   "id": "a66d2b57-0122-45a1-9b81-65c93efd5359",
   "metadata": {},
   "outputs": [],
   "source": [
    "fig = px.treemap(skills_freq, \n",
    "                 path=['group', 'skill'], \n",
    "                 color_continuous_scale='deep',\n",
    "                 values='freq',color='freq')\n",
    "\n",
    "fig.update_layout(width=1400, height=700)\n",
    "fig.show()\n",
    "\n",
    "fig.write_html(os.path.join(FIG_DIR, 'treemap_skills_freq.html'))\n"
   ]
  },
  {
   "cell_type": "markdown",
   "id": "4bb9a1c3-e253-4444-b425-9cc2a8ff5064",
   "metadata": {},
   "source": [
    "## Create Jobs & Skills Heatmap"
   ]
  },
  {
   "cell_type": "code",
   "execution_count": null,
   "id": "9b58d3e7-4f10-48af-9b1f-30a438b41110",
   "metadata": {},
   "outputs": [],
   "source": [
    "sorted_roles = df['DevType'].sum().sort_values().index.tolist()\n",
    "sorted_skills = df.drop('DevType', axis=1).sum().sort_values(ascending=False).droplevel(level=0).index.tolist()"
   ]
  },
  {
   "cell_type": "code",
   "execution_count": null,
   "id": "72df29d4-168d-46e1-95fb-50b215ea55eb",
   "metadata": {},
   "outputs": [],
   "source": [
    "skills = []\n",
    "\n",
    "# For each role, calculate the percentage of each skill\n",
    "for role in sorted_roles:\n",
    "    # Filter for the role\n",
    "    role_mask = (df[('DevType', role)] == 1)\n",
    "\n",
    "    #For each skill column, calculate mean of the one-hot-encoded -> percentage\n",
    "    skills_role = pd.concat({tech_col: df.loc[role_mask, tech_col].mean() * 100\n",
    "                             for tech_col in TECH_COLS})\n",
    "\n",
    "    # Append to original list\n",
    "    skills.append(skills_role)\n",
    "\n",
    "# Concat and format\n",
    "skills = pd.concat(skills, axis=1)\n",
    "skills.columns = sorted_roles\n",
    "skills = skills.reset_index(level=0, drop=True)\n",
    "skills = skills.loc[sorted_skills]\n",
    "skills = skills.T"
   ]
  },
  {
   "cell_type": "code",
   "execution_count": null,
   "outputs": [],
   "source": [
    "skills"
   ],
   "metadata": {
    "collapsed": false,
    "pycharm": {
     "name": "#%%\n"
    }
   }
  },
  {
   "cell_type": "markdown",
   "source": [],
   "metadata": {
    "collapsed": false
   }
  },
  {
   "cell_type": "code",
   "execution_count": null,
   "outputs": [],
   "source": [
    "fig = go.Figure(data=go.Heatmap(z=skills, x=skills.columns,y=skills.index, colorscale='magma', ygap=1))\n",
    "fig.update_layout(width=2500, height=700)\n",
    "fig.show()\n",
    "fig.write_html(os.path.join(FIG_DIR, 'heatmap.html'))"
   ],
   "metadata": {
    "collapsed": false,
    "pycharm": {
     "name": "#%%\n"
    }
   }
  },
  {
   "cell_type": "markdown",
   "id": "abb1ba30-1a9b-4339-852f-a1645b968e46",
   "metadata": {},
   "source": [
    "## Create Jobs dendrogram"
   ]
  },
  {
   "cell_type": "code",
   "execution_count": null,
   "id": "940bd17a-65da-4b56-8597-169bd227d9ef",
   "metadata": {},
   "outputs": [],
   "source": [
    "roles_short_dict = roles_names.set_index('Original name')[\"Short name \"].to_dict()\n",
    "short_labels = [roles_short_dict[role] \n",
    "                for role in sorted_roles]"
   ]
  },
  {
   "cell_type": "code",
   "execution_count": null,
   "id": "b8f70a91-a39e-433d-9e74-f593abda085c",
   "metadata": {},
   "outputs": [],
   "source": [
    "fig = ff.create_dendrogram(skills, labels=short_labels, orientation='left', color_threshold=0)\n",
    "fig.update_layout(height=700, width=1000, showlegend=False)\n",
    "fig.show()\n"
   ]
  },
  {
   "cell_type": "markdown",
   "id": "9f25aca1-8116-4591-be8e-b3e4dcf76332",
   "metadata": {},
   "source": [
    "## Normalizing features "
   ]
  },
  {
   "cell_type": "code",
   "execution_count": null,
   "id": "0a617e29-e1bb-4c27-9917-a4330f815b2a",
   "metadata": {},
   "outputs": [],
   "source": [
    "std_skills = StandardScaler().fit_transform(skills)\n",
    "std_skills = pd.DataFrame(std_skills, columns=skills.columns, index=skills.index)"
   ]
  },
  {
   "cell_type": "code",
   "execution_count": null,
   "id": "331ebfde-d6fa-49a8-89c6-3d00e0c26adb",
   "metadata": {},
   "outputs": [],
   "source": [
    "fig = go.Figure(data=go.Heatmap(z=std_skills, x=skills.columns,y=skills.index, colorscale='magma', ygap=1))\n",
    "fig.update_layout(width=2500, height=700)\n",
    "fig.show()\n",
    "fig.write_html(os.path.join(FIG_DIR, 'normalized_heatmap.html'))"
   ]
  },
  {
   "cell_type": "markdown",
   "source": [
    "## Job profiles"
   ],
   "metadata": {
    "collapsed": false,
    "pycharm": {
     "name": "#%% md\n"
    }
   }
  },
  {
   "cell_type": "code",
   "execution_count": null,
   "outputs": [],
   "source": [
    "sorted_roles"
   ],
   "metadata": {
    "collapsed": false,
    "pycharm": {
     "name": "#%%\n"
    }
   }
  },
  {
   "cell_type": "code",
   "execution_count": null,
   "id": "81014012-b29d-483d-aa39-06fc4730e7f6",
   "metadata": {},
   "outputs": [],
   "source": [
    "#role = np.random.choice(sorted_roles)\n",
    "# role = 'Developer, embedded applications or devices'\n",
    "# role = 'Data scientist or machine learning specialist'\n",
    "# role = 'Developer, back-end'\n",
    "role = 'Product manager'"
   ]
  },
  {
   "cell_type": "code",
   "execution_count": null,
   "id": "c8871ce4-82d2-45fc-8ae7-d9f6b853f5fc",
   "metadata": {
    "tags": []
   },
   "outputs": [],
   "source": [
    "single_role_skills = pd.concat([skills.loc[role], std_skills.loc[role]], axis=1)\n",
    "single_role_skills.columns = ['percentage', 'specificity']\n",
    "single_role_skills = single_role_skills.sort_values('percentage')"
   ]
  },
  {
   "cell_type": "code",
   "execution_count": null,
   "outputs": [],
   "source": [
    "#single_role_skills"
   ],
   "metadata": {
    "collapsed": false,
    "pycharm": {
     "name": "#%%\n"
    }
   }
  },
  {
   "cell_type": "code",
   "execution_count": null,
   "id": "d43d0189-be3d-4f62-b09a-69c022393ad0",
   "metadata": {},
   "outputs": [],
   "source": [
    "threshold = 25\n",
    "\n",
    "single_role_skills = single_role_skills[single_role_skills['percentage'] > threshold]\n",
    "\n",
    "fig = px.bar(df, \n",
    "             y=single_role_skills.index, \n",
    "             x=single_role_skills['percentage'], \n",
    "             color=single_role_skills['specificity'], \n",
    "             color_continuous_scale='orrd', \n",
    "             range_color=[std_skills.values.min(),std_skills.values.max()],\n",
    "             orientation='h')\n",
    "\n",
    "fig.update_layout(width=800, height=800, title=role)\n",
    "fig.show()"
   ]
  },
  {
   "cell_type": "code",
   "execution_count": null,
   "id": "9b0b385c-ec6f-4985-b3e5-0b90b9db2432",
   "metadata": {},
   "outputs": [],
   "source": []
  }
 ],
 "metadata": {
  "kernelspec": {
   "display_name": "Python 3 (ipykernel)",
   "language": "python",
   "name": "python3"
  },
  "language_info": {
   "codemirror_mode": {
    "name": "ipython",
    "version": 3
   },
   "file_extension": ".py",
   "mimetype": "text/x-python",
   "name": "python",
   "nbconvert_exporter": "python",
   "pygments_lexer": "ipython3",
   "version": "3.8.8"
  }
 },
 "nbformat": 4,
 "nbformat_minor": 5
}